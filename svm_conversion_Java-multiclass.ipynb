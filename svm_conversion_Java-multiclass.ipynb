{
 "cells": [
  {
   "cell_type": "code",
   "execution_count": 1,
   "metadata": {
    "collapsed": true
   },
   "outputs": [],
   "source": [
    "from sklearn.linear_model import SGDClassifier\n",
    "from sklearn.datasets import make_classification\n",
    "from sklearn.svm import LinearSVC\n",
    "\n",
    "import numpy as np\n",
    "import pandas as pd\n",
    "\n",
    "from sklearn_porter import Porter"
   ]
  },
  {
   "cell_type": "code",
   "execution_count": 2,
   "metadata": {
    "collapsed": true
   },
   "outputs": [],
   "source": [
    "X, y = make_classification(100, n_clusters_per_class=1, random_state=40, n_classes=3)"
   ]
  },
  {
   "cell_type": "code",
   "execution_count": 3,
   "metadata": {},
   "outputs": [
    {
     "name": "stderr",
     "output_type": "stream",
     "text": [
      "C:\\Users\\chapm\\Anaconda3\\envs\\sk2java\\lib\\site-packages\\sklearn\\linear_model\\stochastic_gradient.py:84: FutureWarning: max_iter and tol parameters have been added in <class 'sklearn.linear_model.stochastic_gradient.SGDClassifier'> in 0.19. If both are left unset, they default to max_iter=5 and tol=None. If tol is not None, max_iter defaults to max_iter=1000. From 0.21, default max_iter will be 1000, and default tol will be 1e-3.\n",
      "  \"and default tol will be 1e-3.\" % type(self), FutureWarning)\n"
     ]
    },
    {
     "data": {
      "text/plain": [
       "SGDClassifier(alpha=0.0001, average=False, class_weight=None, epsilon=0.1,\n",
       "       eta0=0.0, fit_intercept=True, l1_ratio=0.15,\n",
       "       learning_rate='optimal', loss='hinge', max_iter=5, n_iter=None,\n",
       "       n_jobs=1, penalty='l2', power_t=0.5, random_state=None,\n",
       "       shuffle=True, tol=None, verbose=0, warm_start=False)"
      ]
     },
     "execution_count": 3,
     "metadata": {},
     "output_type": "execute_result"
    }
   ],
   "source": [
    "base_mod = SGDClassifier()\n",
    "base_mod.fit(X, y)"
   ]
  },
  {
   "cell_type": "code",
   "execution_count": 4,
   "metadata": {
    "collapsed": true
   },
   "outputs": [],
   "source": [
    "new_mod = LinearSVC()"
   ]
  },
  {
   "cell_type": "code",
   "execution_count": 5,
   "metadata": {
    "collapsed": true
   },
   "outputs": [],
   "source": [
    "new_mod.coef_ = base_mod.coef_[:]\n",
    "new_mod.intercept_ = base_mod.intercept_[:]\n",
    "new_mod.classes_ = np.array([0, 1, 2])"
   ]
  },
  {
   "cell_type": "code",
   "execution_count": 6,
   "metadata": {},
   "outputs": [
    {
     "data": {
      "text/plain": [
       "True"
      ]
     },
     "execution_count": 6,
     "metadata": {},
     "output_type": "execute_result"
    }
   ],
   "source": [
    "np.array_equal(base_mod.predict(X), new_mod.predict(X))"
   ]
  },
  {
   "cell_type": "code",
   "execution_count": 7,
   "metadata": {},
   "outputs": [
    {
     "name": "stdout",
     "output_type": "stream",
     "text": [
      "class Brain {\n",
      "\n",
      "    public static int predict(float[] atts) {\n",
      "        if (atts.length != 20) { return -1; }\n",
      "    \n",
      "        double[][] coefs = {{20.593458459048051, 46.208859491258387, 92.045064588784982, -11.383840415263183, 37.357702616582863, 14.351492291806464, 10.910157116322377, 0.2025367652833184, -15.991392961555748, -25.715054222130895, 80.192694633588914, -19.424674273407369, -3.0409198459548072, 11.336663827034686, -5.7907358530605038, 49.294332580893929, 29.018320972389233, -2.700931563014048, -0.76680248858631384, 8.4582585784579862}, {0.35329456785547758, -19.616379572064975, -46.945042683041329, -30.379168621058238, -0.97976740244606997, -19.738632585388238, 14.737229211860411, 39.939811323128659, 16.542352945192526, 1.4659659348958323, -91.150173505159614, 1.6674712864195467, 28.403247832385869, -25.377623389677836, -20.870209543847235, -4.2895912423198785, 5.6663344202386963, -7.322301640243837, -39.515506899612724, -10.92915365722304}, {10.297294092895324, 10.849830949633791, -14.814968711437441, 34.291247355453606, -36.742936782828266, -5.7855650321688952, 12.447694016338254, -43.479417234995218, 1.0850200199520972, 20.882132594112424, 41.614130120083601, -20.856339112827662, -19.291610227725204, -41.581698386930441, -37.363524512297644, -30.558124194999355, -15.469761833643396, 2.0059861182655139, 3.7167127737103747, -10.143994433128444}};\n",
      "        double[] inters = {-44.461491563531901, -77.704301116950177, -96.549858233627319};\n",
      "    \n",
      "        int class_idx = -1;\n",
      "        double class_val = Double.NEGATIVE_INFINITY;\n",
      "        for (int i = 0; i < 3; i++) {\n",
      "            double prob = 0.;\n",
      "            for (int j = 0; j < 20; j++) {\n",
      "                prob += coefs[i][j] * atts[j];\n",
      "            }\n",
      "            if (prob + inters[i] > class_val) {\n",
      "                class_val = prob + inters[i];\n",
      "                class_idx = i;\n",
      "            }\n",
      "        }\n",
      "        return class_idx;\n",
      "    }\n",
      "\n",
      "    public static void main(String[] args) {\n",
      "        if (args.length == 20) {\n",
      "            float[] atts = new float[args.length];\n",
      "            for (int i = 0, l = args.length; i < l; i++) {\n",
      "                atts[i] = Float.parseFloat(args[i]);\n",
      "            }\n",
      "            System.out.println(Brain.predict(atts));\n",
      "        }\n",
      "    }\n",
      "}\n"
     ]
    }
   ],
   "source": [
    "porter = Porter(new_mod, language='java')\n",
    "output = porter.export()\n",
    "print(output)"
   ]
  },
  {
   "cell_type": "code",
   "execution_count": 8,
   "metadata": {},
   "outputs": [
    {
     "data": {
      "text/plain": [
       "array([0, 2, 0, 2, 0, 1, 1, 0, 0, 1, 0, 1, 1, 0, 2, 2, 2, 2, 1, 1, 0, 1, 2,\n",
       "       1, 0, 1, 2, 0, 0, 0, 2, 1, 1, 1, 0, 1, 2, 1, 2, 2, 1, 0, 0, 1, 0, 1,\n",
       "       0, 0, 1, 0, 2, 2, 1, 0, 0, 2, 2, 2, 0, 0, 2, 2, 2, 2, 0, 0, 0, 1, 2,\n",
       "       0, 0, 1, 2, 2, 0, 0, 1, 0, 0, 1, 1, 1, 2, 1, 1, 1, 1, 1, 1, 1, 1, 0,\n",
       "       2, 0, 0, 2, 1, 0, 0, 2])"
      ]
     },
     "execution_count": 8,
     "metadata": {},
     "output_type": "execute_result"
    }
   ],
   "source": [
    "new_mod.predict(X)"
   ]
  },
  {
   "cell_type": "code",
   "execution_count": 9,
   "metadata": {
    "collapsed": true
   },
   "outputs": [],
   "source": [
    "def export(output):\n",
    "    with open(\"Brain.java\", 'w') as f:\n",
    "        f.write(output)   "
   ]
  },
  {
   "cell_type": "code",
   "execution_count": 10,
   "metadata": {
    "collapsed": true
   },
   "outputs": [],
   "source": [
    "export(output)"
   ]
  },
  {
   "cell_type": "code",
   "execution_count": 11,
   "metadata": {
    "collapsed": true
   },
   "outputs": [],
   "source": [
    "%%sh\n",
    "javac Brain.java\n",
    "jar cf Brain.jar Brain.class"
   ]
  },
  {
   "cell_type": "code",
   "execution_count": 12,
   "metadata": {},
   "outputs": [
    {
     "name": "stdout",
     "output_type": "stream",
     "text": [
      "1.20504706071 -0.617501020267 0.611551331491 0.145940441723 -0.152578211078 0.16532829362 -0.602495907576 -0.780360488461 -1.04759324319 -0.749048410168 1.51376685632 0.547837938892 -1.26976393352 -0.945060652387 -1.02039097673 -0.0795436707492 -0.520363454978 -0.632583066333 -1.02129497676 1.30909830129\n"
     ]
    }
   ],
   "source": [
    "print(' '.join(str(x) for x in list(X[0, :])))"
   ]
  },
  {
   "cell_type": "code",
   "execution_count": 13,
   "metadata": {
    "collapsed": true
   },
   "outputs": [],
   "source": [
    "import os"
   ]
  },
  {
   "cell_type": "code",
   "execution_count": 14,
   "metadata": {
    "collapsed": true
   },
   "outputs": [],
   "source": [
    "base_cmd = \"java -cp Brain.jar Brain \""
   ]
  },
  {
   "cell_type": "code",
   "execution_count": 15,
   "metadata": {
    "collapsed": true
   },
   "outputs": [],
   "source": [
    "x_string = [base_cmd + ' '.join(str(x) for x in list(X[i, :])) for i in range(X.shape[0])]"
   ]
  },
  {
   "cell_type": "code",
   "execution_count": null,
   "metadata": {
    "collapsed": true
   },
   "outputs": [],
   "source": [
    "java_pred_res = [os.popen(x).read() for x in x_string]"
   ]
  },
  {
   "cell_type": "code",
   "execution_count": null,
   "metadata": {
    "collapsed": true
   },
   "outputs": [],
   "source": [
    "java_pred_clean = [int(x.strip()) for x in java_pred_res]"
   ]
  },
  {
   "cell_type": "code",
   "execution_count": null,
   "metadata": {
    "collapsed": true
   },
   "outputs": [],
   "source": [
    "from sklearn.metrics import accuracy_score"
   ]
  },
  {
   "cell_type": "code",
   "execution_count": null,
   "metadata": {},
   "outputs": [],
   "source": [
    "# java object and python object agree.\n",
    "accuracy_score(java_pred_clean, new_mod.predict(X))"
   ]
  }
 ],
 "metadata": {
  "anaconda-cloud": {},
  "kernelspec": {
   "display_name": "Python [conda env:sk2java]",
   "language": "python",
   "name": "conda-env-sk2java-py"
  },
  "language_info": {
   "codemirror_mode": {
    "name": "ipython",
    "version": 2
   },
   "file_extension": ".py",
   "mimetype": "text/x-python",
   "name": "python",
   "nbconvert_exporter": "python",
   "pygments_lexer": "ipython2",
   "version": "2.7.13"
  }
 },
 "nbformat": 4,
 "nbformat_minor": 2
}
