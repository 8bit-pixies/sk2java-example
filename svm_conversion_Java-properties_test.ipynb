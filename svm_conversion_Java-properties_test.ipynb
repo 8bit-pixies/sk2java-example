{
 "cells": [
  {
   "cell_type": "code",
   "execution_count": 1,
   "metadata": {
    "collapsed": true
   },
   "outputs": [],
   "source": [
    "from sklearn.linear_model import SGDClassifier\n",
    "from sklearn.datasets import make_classification\n",
    "from sklearn.svm import LinearSVC\n",
    "\n",
    "import numpy as np\n",
    "import pandas as pd\n",
    "\n",
    "from sklearn_porter import Porter"
   ]
  },
  {
   "cell_type": "code",
   "execution_count": 2,
   "metadata": {
    "collapsed": true
   },
   "outputs": [],
   "source": [
    "X, y = make_classification(100, n_clusters_per_class=1, random_state=40, n_classes=3)"
   ]
  },
  {
   "cell_type": "code",
   "execution_count": 3,
   "metadata": {},
   "outputs": [
    {
     "name": "stderr",
     "output_type": "stream",
     "text": [
      "C:\\Users\\chapm\\Anaconda3\\envs\\sk2java\\lib\\site-packages\\sklearn\\linear_model\\stochastic_gradient.py:84: FutureWarning: max_iter and tol parameters have been added in <class 'sklearn.linear_model.stochastic_gradient.SGDClassifier'> in 0.19. If both are left unset, they default to max_iter=5 and tol=None. If tol is not None, max_iter defaults to max_iter=1000. From 0.21, default max_iter will be 1000, and default tol will be 1e-3.\n",
      "  \"and default tol will be 1e-3.\" % type(self), FutureWarning)\n"
     ]
    },
    {
     "data": {
      "text/plain": [
       "SGDClassifier(alpha=0.0001, average=False, class_weight=None, epsilon=0.1,\n",
       "       eta0=0.0, fit_intercept=True, l1_ratio=0.15,\n",
       "       learning_rate='optimal', loss='hinge', max_iter=5, n_iter=None,\n",
       "       n_jobs=1, penalty='l2', power_t=0.5, random_state=None,\n",
       "       shuffle=True, tol=None, verbose=0, warm_start=False)"
      ]
     },
     "execution_count": 3,
     "metadata": {},
     "output_type": "execute_result"
    }
   ],
   "source": [
    "base_mod = SGDClassifier()\n",
    "base_mod.fit(X, y)"
   ]
  },
  {
   "cell_type": "code",
   "execution_count": 4,
   "metadata": {
    "collapsed": true
   },
   "outputs": [],
   "source": [
    "new_mod = LinearSVC()"
   ]
  },
  {
   "cell_type": "code",
   "execution_count": 5,
   "metadata": {
    "collapsed": true
   },
   "outputs": [],
   "source": [
    "new_mod.coef_ = base_mod.coef_[:]\n",
    "new_mod.intercept_ = base_mod.intercept_[:]\n",
    "new_mod.classes_ = np.array([0, 1, 2])"
   ]
  },
  {
   "cell_type": "code",
   "execution_count": 6,
   "metadata": {},
   "outputs": [
    {
     "data": {
      "text/plain": [
       "True"
      ]
     },
     "execution_count": 6,
     "metadata": {},
     "output_type": "execute_result"
    }
   ],
   "source": [
    "np.array_equal(base_mod.predict(X), new_mod.predict(X))"
   ]
  },
  {
   "cell_type": "code",
   "execution_count": 8,
   "metadata": {
    "collapsed": true
   },
   "outputs": [],
   "source": [
    "porter.export?"
   ]
  },
  {
   "cell_type": "code",
   "execution_count": 10,
   "metadata": {},
   "outputs": [],
   "source": [
    "porter = Porter(new_mod, language='java')\n",
    "output = porter.export(details=True)"
   ]
  },
  {
   "cell_type": "code",
   "execution_count": 12,
   "metadata": {},
   "outputs": [
    {
     "data": {
      "text/plain": [
       "array([0, 2, 0, 2, 0, 1, 1, 0, 0, 1, 0, 1, 1, 0, 2, 2, 2, 2, 1, 1, 0, 1, 1,\n",
       "       1, 0, 1, 2, 0, 0, 0, 2, 1, 1, 1, 0, 1, 2, 1, 2, 2, 1, 0, 0, 1, 0, 1,\n",
       "       0, 0, 1, 0, 2, 2, 2, 0, 0, 2, 2, 2, 0, 0, 2, 2, 2, 2, 0, 0, 0, 1, 2,\n",
       "       0, 0, 1, 0, 2, 0, 0, 1, 0, 0, 1, 2, 1, 2, 1, 1, 1, 1, 2, 1, 1, 1, 2,\n",
       "       2, 0, 1, 2, 1, 0, 0, 2])"
      ]
     },
     "execution_count": 12,
     "metadata": {},
     "output_type": "execute_result"
    }
   ],
   "source": [
    "new_mod.predict(X)"
   ]
  },
  {
   "cell_type": "code",
   "execution_count": 13,
   "metadata": {
    "collapsed": true
   },
   "outputs": [],
   "source": [
    "def export(output):\n",
    "    with open(\"Brain.java\", 'w') as f:\n",
    "        f.write(output.get('model'))   "
   ]
  },
  {
   "cell_type": "code",
   "execution_count": 14,
   "metadata": {
    "collapsed": true
   },
   "outputs": [],
   "source": [
    "export(output)"
   ]
  },
  {
   "cell_type": "code",
   "execution_count": 57,
   "metadata": {},
   "outputs": [],
   "source": [
    "%%sh\n",
    "javac Brain.java\n",
    "jar cf Brain.jar Brain.class"
   ]
  },
  {
   "cell_type": "code",
   "execution_count": 26,
   "metadata": {},
   "outputs": [
    {
     "name": "stdout",
     "output_type": "stream",
     "text": [
      "1.20504706071 -0.617501020267 0.611551331491 0.145940441723 -0.152578211078 0.16532829362 -0.602495907576 -0.780360488461 -1.04759324319 -0.749048410168 1.51376685632 0.547837938892 -1.26976393352 -0.945060652387 -1.02039097673 -0.0795436707492 -0.520363454978 -0.632583066333 -1.02129497676 1.30909830129\n"
     ]
    }
   ],
   "source": [
    "print(' '.join(str(x) for x in list(X[0, :])))"
   ]
  },
  {
   "cell_type": "code",
   "execution_count": 27,
   "metadata": {
    "collapsed": true
   },
   "outputs": [],
   "source": [
    "import os"
   ]
  },
  {
   "cell_type": "code",
   "execution_count": 28,
   "metadata": {
    "collapsed": true
   },
   "outputs": [],
   "source": [
    "base_cmd = \"java -cp Brain.jar Brain \""
   ]
  },
  {
   "cell_type": "code",
   "execution_count": 29,
   "metadata": {
    "collapsed": true
   },
   "outputs": [],
   "source": [
    "x_string = [base_cmd + ' '.join(str(x) for x in list(X[i, :])) for i in range(X.shape[0])]"
   ]
  },
  {
   "cell_type": "code",
   "execution_count": 101,
   "metadata": {},
   "outputs": [],
   "source": [
    "%%sh\n",
    "javac Brain.java\n",
    "jar cf Brain.jar Brain.class"
   ]
  },
  {
   "cell_type": "code",
   "execution_count": 102,
   "metadata": {},
   "outputs": [
    {
     "name": "stdout",
     "output_type": "stream",
     "text": [
      "0\n",
      "\n"
     ]
    }
   ],
   "source": [
    "print(os.popen(x_string[0]).read())"
   ]
  },
  {
   "cell_type": "code",
   "execution_count": 83,
   "metadata": {},
   "outputs": [
    {
     "data": {
      "text/plain": [
       "array([-21.87204757,  57.16377294,  82.14639135,   1.47534617,\n",
       "        19.97250269,  18.75320828,  13.99490267,   5.02947802,\n",
       "       -25.71305326, -10.86079598,  65.48398169, -26.51360773,\n",
       "       -18.17694449,  15.8466225 , -17.0643076 ,  46.51801327,\n",
       "        18.73335234,  -0.1013569 ,   3.61829195,   4.37788277,\n",
       "        11.53314662, -16.21393577, -53.13967588, -12.65740187,\n",
       "        -9.5168759 , -13.15216366,  -7.3583958 ,  26.59606849,\n",
       "        18.23764699, -14.06838499, -79.81918232,  -4.78354675,\n",
       "        29.36743387, -27.01789124, -21.64590871, -14.5484803 ,\n",
       "        -5.33963991, -29.11233412, -29.41295267, -27.98660014,\n",
       "        14.96553159, -23.74013949, -32.09661624,  52.91447391,\n",
       "       -45.82379403,   8.50022247,  31.95785117, -38.33308085,\n",
       "        16.19439158,  17.37966638,  20.05193102,  -3.93163831,\n",
       "       -20.37476227, -27.58485674,  -9.91766504, -37.11358521,\n",
       "       -48.09741738,  29.35829579,  19.66657138,   4.86049749])"
      ]
     },
     "execution_count": 83,
     "metadata": {},
     "output_type": "execute_result"
    }
   ],
   "source": [
    "new_mod.coef_.flatten()"
   ]
  }
 ],
 "metadata": {
  "anaconda-cloud": {},
  "kernelspec": {
   "display_name": "Python [conda env:sk2java]",
   "language": "python",
   "name": "conda-env-sk2java-py"
  },
  "language_info": {
   "codemirror_mode": {
    "name": "ipython",
    "version": 2
   },
   "file_extension": ".py",
   "mimetype": "text/x-python",
   "name": "python",
   "nbconvert_exporter": "python",
   "pygments_lexer": "ipython2",
   "version": "2.7.13"
  }
 },
 "nbformat": 4,
 "nbformat_minor": 2
}
